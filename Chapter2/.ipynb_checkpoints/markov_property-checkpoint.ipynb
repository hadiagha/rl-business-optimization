{
 "cells": [
  {
   "cell_type": "markdown",
   "id": "ac15cc92",
   "metadata": {},
   "source": [
    "## Perform Simulation to Prove Markov Property"
   ]
  },
  {
   "cell_type": "code",
   "execution_count": null,
   "id": "c9c325de",
   "metadata": {},
   "outputs": [],
   "source": "import numpy as np\nimport pandas as pd\nimport matplotlib.pyplot as plt\nfrom numpy.typing import NDArray\nfrom matplotlib.figure import Figure\nfrom matplotlib.axes import Axes\n\n# set seeds for reproducibility\nnp.random.seed(42)\n\n# Use a built‑in style available by default\nplt.style.use('ggplot')\n\ndef simulate_markov(P: NDArray[np.float64], initial_state: int, n_steps: int) -> NDArray[np.int_]:\n    n_states: int = P.shape[0]\n    chain: NDArray[np.int_] = np.empty(n_steps, dtype=int)\n    chain[0] = initial_state\n    for t in range(1, n_steps):\n        chain[t] = np.random.choice(n_states, p=P[chain[t-1]])\n    return chain\n\ndef empirical_distribution(next_states: NDArray[np.int_], n_states: int) -> NDArray[np.float64]:\n    counts: NDArray[np.int_] = np.bincount(next_states, minlength=n_states)\n    return counts / counts.sum()\n\n# Setup\nstates: list[str] = ['Install Basic', 'Buy Pro', 'Cancel Plan']\nP: NDArray[np.float64] = np.array([\n    [0.6, 0.3, 0.1],\n    [0.2, 0.5, 0.3],\n    [0.3, 0.1, 0.6]\n])\nn_steps: int = 15_000\nchain: NDArray[np.int_] = simulate_markov(P, initial_state=1, n_steps=n_steps)\n\n# Compute distributions\ndist_B: NDArray[np.float64] = empirical_distribution(chain[1:][chain[:-1] == 1], len(states))\ndist_IB: NDArray[np.float64] = empirical_distribution(chain[2:][(chain[:-2] == 0)&(chain[1:-1] == 1)], len(states))\ndist_CB: NDArray[np.float64] = empirical_distribution(chain[2:][(chain[:-2] == 2)&(chain[1:-1] == 1)], len(states))\n\ntitles: list[str] = [\n    'P(next | current = Buy Pro)',\n    'P(next | prev = Install Basic, current = Buy Pro)',\n    'P(next | prev = Cancel Plan, current = Buy Pro)'\n]\ndists: list[NDArray[np.float64]] = [dist_B, dist_IB, dist_CB]\n\n# Plot side by side\nfig: Figure\naxes: NDArray[Axes]\nfig, axes = plt.subplots(1, 3, figsize=(16, 7), sharey=True)\nplt.rcParams.update({\n    \"ytick.labelsize\": 16,\n    \"xtick.labelsize\": 16\n})\n\nfor ax, title, dist in zip(axes, titles, dists):\n    bars = ax.bar(states, dist, edgecolor='black', width=0.6)\n    ax.set_title(title, fontsize=14)\n    ax.set_xlabel('Next State', fontsize=14)\n    ax.set_ylim(0, 0.65)\n    ax.grid(axis='y', linestyle='--', linewidth=0.5)\n    for bar in bars:\n        height: float = bar.get_height()\n        ax.text(bar.get_x() + bar.get_width()/2, height + 0.02,\n                f'{height:.2f}', ha='center', va='bottom', fontsize=14)\naxes[0].set_ylabel('Probability', fontsize=14)\n\nplt.tight_layout()\nplt.savefig('markov_plot.png', dpi=300, bbox_inches='tight')  # Saves high-resolution image\nplt.show()\n"
  },
  {
   "cell_type": "markdown",
   "id": "7ad1f669",
   "metadata": {},
   "source": [
    "## Chi 2 statistical test for testing independency of states"
   ]
  },
  {
   "cell_type": "code",
   "execution_count": null,
   "id": "c0a4b4f6",
   "metadata": {},
   "outputs": [],
   "source": "import numpy as np\nfrom scipy.stats import chi2_contingency\nfrom numpy.typing import NDArray\n\n# set seeds for reproducibility\nnp.random.seed(42)\n\n# 1) Simulate the Markov chain again\nstates: list[str] = ['Install Basic', 'Buy Pro', 'Cancel Plan']\nP_true: NDArray[np.float64] = np.array([\n    [0.6, 0.3, 0.1],\n    [0.2, 0.5, 0.3],\n    [0.3, 0.1, 0.6]\n])\n\nn_steps: int = 10000\nchain: NDArray[np.int_] = np.zeros(n_steps, dtype=int)\nchain[0] = 1  # start from 'Medium'\nfor t in range(1, n_steps):\n    chain[t] = np.random.choice(3, p=P_true[chain[t-1]])\n\n# 2) Build contingency table of Prev vs Next given Current = Medium\n# Rows: previous state; Columns: next state\ncontingency: NDArray[np.int_] = np.zeros((3, 3), dtype=int)\nfor t in range(2, n_steps):\n    prev: int\n    curr: int\n    nxt: int\n    prev, curr, nxt = chain[t-2], chain[t-1], chain[t]\n    if curr == 1:  # only when current == 'Medium'\n        contingency[prev, nxt] += 1\n\n# 3) Perform chi-square test of independence\nchi2_stat: float\np_value: float\ndof: int\nexpected: NDArray[np.float64]\nchi2_stat, p_value, dof, expected = chi2_contingency(contingency)\n\n# 4) Display results\nprint(\"Contingency table (Prev vs Next | Current=Buy Pro):\")\nprint(contingency)\nprint(\"\\nExpected frequencies under independence:\")\nprint(np.round(expected).astype(int))\nprint(f\"\\nChi-square statistic = {chi2_stat:.2f}\")\nprint(f\"Degrees of freedom = {dof}\")\nprint(f\"P-value = {p_value:.4f}\")\n\np_value_threshold: float = 0.05\n\n# Interpretation:\n# # A non-significant p-value (p > 0.05) means the Markov property holds: once you condition on \"current,\" \"previous\" doesn't matter.\nif p_value > p_value_threshold: \n    print(\"\\nResult: fail to reject H0 — 'Next state' is independent of 'Previous state' given 'Current=Buy Pro'.\")\nelse:\n    print(\"\\nResult: reject H0 — some dependency on previous state remains.\")\n"
  }
 ],
 "metadata": {
  "kernelspec": {
   "display_name": "Python 3 (ipykernel)",
   "language": "python",
   "name": "python3"
  },
  "language_info": {
   "codemirror_mode": {
    "name": "ipython",
    "version": 3
   },
   "file_extension": ".py",
   "mimetype": "text/x-python",
   "name": "python",
   "nbconvert_exporter": "python",
   "pygments_lexer": "ipython3",
   "version": "3.13.1"
  }
 },
 "nbformat": 4,
 "nbformat_minor": 5
}